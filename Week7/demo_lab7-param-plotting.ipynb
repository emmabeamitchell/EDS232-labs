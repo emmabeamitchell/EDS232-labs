{
 "cells": [
  {
   "cell_type": "code",
   "execution_count": 1,
   "id": "849761aa-ae13-433a-ba6c-7dc90ffa72e0",
   "metadata": {
    "tags": []
   },
   "outputs": [
    {
     "ename": "ModuleNotFoundError",
     "evalue": "No module named 'xgboost'",
     "output_type": "error",
     "traceback": [
      "\u001b[0;31m---------------------------------------------------------------------------\u001b[0m",
      "\u001b[0;31mModuleNotFoundError\u001b[0m                       Traceback (most recent call last)",
      "\u001b[0;32m/tmp/ipykernel_152444/1929019739.py\u001b[0m in \u001b[0;36m<module>\u001b[0;34m\u001b[0m\n\u001b[1;32m      1\u001b[0m \u001b[0;32mimport\u001b[0m \u001b[0mnumpy\u001b[0m \u001b[0;32mas\u001b[0m \u001b[0mnp\u001b[0m\u001b[0;34m\u001b[0m\u001b[0;34m\u001b[0m\u001b[0m\n\u001b[0;32m----> 2\u001b[0;31m \u001b[0;32mimport\u001b[0m \u001b[0mxgboost\u001b[0m \u001b[0;32mas\u001b[0m \u001b[0mxgb\u001b[0m\u001b[0;34m\u001b[0m\u001b[0;34m\u001b[0m\u001b[0m\n\u001b[0m\u001b[1;32m      3\u001b[0m \u001b[0;32mimport\u001b[0m \u001b[0mmatplotlib\u001b[0m\u001b[0;34m.\u001b[0m\u001b[0mpyplot\u001b[0m \u001b[0;32mas\u001b[0m \u001b[0mplt\u001b[0m\u001b[0;34m\u001b[0m\u001b[0;34m\u001b[0m\u001b[0m\n\u001b[1;32m      4\u001b[0m \u001b[0;32mimport\u001b[0m \u001b[0mseaborn\u001b[0m \u001b[0;32mas\u001b[0m \u001b[0msns\u001b[0m\u001b[0;34m\u001b[0m\u001b[0;34m\u001b[0m\u001b[0m\n\u001b[1;32m      5\u001b[0m \u001b[0;32mimport\u001b[0m \u001b[0mpandas\u001b[0m \u001b[0;32mas\u001b[0m \u001b[0mpd\u001b[0m\u001b[0;34m\u001b[0m\u001b[0;34m\u001b[0m\u001b[0m\n",
      "\u001b[0;31mModuleNotFoundError\u001b[0m: No module named 'xgboost'"
     ]
    }
   ],
   "source": [
    "import numpy as np\n",
    "import xgboost as xgb\n",
    "import matplotlib.pyplot as plt\n",
    "import seaborn as sns\n",
    "import pandas as pd\n",
    "from sklearn.datasets import make_moons\n",
    "from sklearn.model_selection import train_test_split, RandomizedSearchCV\n",
    "from sklearn.preprocessing import StandardScaler\n",
    "from sklearn.metrics import accuracy_score\n",
    "from scipy.stats import uniform, randint\n",
    "\n",
    "# Generate a moons dataset\n",
    "X, y = make_moons(n_samples = 1000, noise = 0.2, random_state = 808)\n",
    "\n",
    "# Split into training and test sets\n",
    "X_train, X_test, y_train, y_test = train_test_split(X,y,test_size = 0.2, random_state = 808)\n",
    "\n",
    "# Define XGBoost model\n",
    "model = xgb.XGBClassifier(eval_metric = \"logloss\", random_state = 808)\n",
    "\n",
    "# Define hyperparameter distributions\n",
    "param_dist = {\n",
    "    # number of trees\n",
    "    \"n_estimators\": randint(50,300), # random integer from this range\n",
    "    # uniform: first number is starting point for distribution\n",
    "    # second number is the size of the range (the length, not the number it's going to)\n",
    "    \"learning_rate\": uniform(0.01, 0.3), # how much are we going to change the parameter value\n",
    "    \"max_depth\": randint(2,10), # depth of the tree\n",
    "    \"subsample\": uniform(0.5, 0.5),# subsampling the data\n",
    "    \"colsample_by_tree\": uniform(0.5, 0.5) # subsampling the parameters (what portion of the features we're using)    \n",
    "}\n",
    "\n",
    "# Set up RandomizedSearchCV\n",
    "random_search = RandomizedSearchCV(\n",
    "    model, param_dist, n_iter = 20, scoring = \"accuracy\", \n",
    "    cv = 3, verbose = 1, random_state = 808)\n",
    "\n",
    "# Run random search\n",
    "random_search.fit(X_train, y_train)\n",
    "# Get search results as a DataFrame\n",
    "results = pd.DataFrame(random_search.cv_results_)\n",
    "\n",
    "# Extract hyperparameters and accuracy\n",
    "params_to_plot = [\"param_learning_rate\", \"param_n_estimators\",\n",
    "                 \"param_max_depth\", \"param_subsample\",\n",
    "                 \"param_colsample_bytree\"]\n",
    "\n",
    "accuracy = results[\"mean_test_score\"]"
   ]
  },
  {
   "cell_type": "code",
   "execution_count": null,
   "id": "43145d7b-4a19-4da8-a1c2-6d103d88e48f",
   "metadata": {
    "tags": []
   },
   "outputs": [],
   "source": [
    "# Generate scatter plots for each hyperparameter vs. accuracy\n",
    "\n",
    "for param in params_to_plot: \n",
    "    sns.scatterplit(x = results[param], y = accuracy)\n",
    "    plt.title(f\"Effect of {param} on Model Accuracy\")\n",
    "    plt.show()"
   ]
  },
  {
   "cell_type": "code",
   "execution_count": null,
   "id": "1d59cdd3",
   "metadata": {},
   "outputs": [],
   "source": []
  }
 ],
 "metadata": {
  "kernelspec": {
   "display_name": "Anaconda 3 (EDS232)",
   "language": "python",
   "name": "ml-env"
  },
  "language_info": {
   "codemirror_mode": {
    "name": "ipython",
    "version": 3
   },
   "file_extension": ".py",
   "mimetype": "text/x-python",
   "name": "python",
   "nbconvert_exporter": "python",
   "pygments_lexer": "ipython3",
   "version": "3.10.16"
  }
 },
 "nbformat": 4,
 "nbformat_minor": 5
}
